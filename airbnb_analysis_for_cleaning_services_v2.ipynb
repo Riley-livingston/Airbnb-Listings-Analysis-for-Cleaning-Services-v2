{
 "cells": [
  {
   "cell_type": "markdown",
   "id": "2bb9d2eb",
   "metadata": {},
   "source": [
    "## Airbnb Listings Analysis | Multivariate Linear Regression with Sklearn"
   ]
  },
  {
   "cell_type": "markdown",
   "id": "34dcb588",
   "metadata": {},
   "source": [
    "Datasets used: Listings and reviews for NYC on September 7th, 2022 from insideairbnb: http://insideairbnb.com/get-the-data"
   ]
  },
  {
   "cell_type": "code",
   "execution_count": 84,
   "id": "0cd40ea1",
   "metadata": {},
   "outputs": [],
   "source": [
    "import pandas as pd\n",
    "import numpy as np\n",
    "import matplotlib.pyplot as plt\n",
    "from sklearn import linear_model\n",
    "from scipy import stats"
   ]
  },
  {
   "cell_type": "markdown",
   "id": "417cbe46",
   "metadata": {},
   "source": [
    "Import the datafile from the clean dataset I provided, or download the datasets from the link above and follow the steps to clean it your self in the SQL script I provided in the directory."
   ]
  },
  {
   "cell_type": "code",
   "execution_count": 85,
   "id": "b05fd057",
   "metadata": {},
   "outputs": [
    {
     "data": {
      "text/html": [
       "<div>\n",
       "<style scoped>\n",
       "    .dataframe tbody tr th:only-of-type {\n",
       "        vertical-align: middle;\n",
       "    }\n",
       "\n",
       "    .dataframe tbody tr th {\n",
       "        vertical-align: top;\n",
       "    }\n",
       "\n",
       "    .dataframe thead th {\n",
       "        text-align: right;\n",
       "    }\n",
       "</style>\n",
       "<table border=\"1\" class=\"dataframe\">\n",
       "  <thead>\n",
       "    <tr style=\"text-align: right;\">\n",
       "      <th></th>\n",
       "      <th>host_id</th>\n",
       "      <th>host_name</th>\n",
       "      <th>listing_id</th>\n",
       "      <th>listing_url</th>\n",
       "      <th>booked_out_of_30</th>\n",
       "      <th>booked_out_of_60</th>\n",
       "      <th>booked_out_of_90</th>\n",
       "      <th>booked_out_of_365</th>\n",
       "      <th>review_scores_rating_clean</th>\n",
       "      <th>instant_bookable_clean</th>\n",
       "      <th>...</th>\n",
       "      <th>bedrooms_clean</th>\n",
       "      <th>room_type</th>\n",
       "      <th>property_type</th>\n",
       "      <th>host_has_profile_pic_clean</th>\n",
       "      <th>host_identity_verified_clean</th>\n",
       "      <th>neighbourhood_cleansed</th>\n",
       "      <th>neighbourhood_group_cleansed</th>\n",
       "      <th>host_total_listings_count_clean</th>\n",
       "      <th>number_of_reviews_clean</th>\n",
       "      <th>dirty_review_count</th>\n",
       "    </tr>\n",
       "  </thead>\n",
       "  <tbody>\n",
       "    <tr>\n",
       "      <th>0</th>\n",
       "      <td>8967</td>\n",
       "      <td>Shunichi</td>\n",
       "      <td>5178</td>\n",
       "      <td>https://www.airbnb.com/rooms/5178</td>\n",
       "      <td>28</td>\n",
       "      <td>56</td>\n",
       "      <td>83</td>\n",
       "      <td>205</td>\n",
       "      <td>4.23</td>\n",
       "      <td>0</td>\n",
       "      <td>...</td>\n",
       "      <td>1</td>\n",
       "      <td>Private room</td>\n",
       "      <td>Private room in rental unit</td>\n",
       "      <td>1</td>\n",
       "      <td>0</td>\n",
       "      <td>Midtown</td>\n",
       "      <td>Manhattan</td>\n",
       "      <td>1</td>\n",
       "      <td>550</td>\n",
       "      <td>52</td>\n",
       "    </tr>\n",
       "    <tr>\n",
       "      <th>1</th>\n",
       "      <td>17601262</td>\n",
       "      <td>Enrico</td>\n",
       "      <td>3495854</td>\n",
       "      <td>https://www.airbnb.com/rooms/3495854</td>\n",
       "      <td>25</td>\n",
       "      <td>39</td>\n",
       "      <td>46</td>\n",
       "      <td>46</td>\n",
       "      <td>4.69</td>\n",
       "      <td>0</td>\n",
       "      <td>...</td>\n",
       "      <td>1</td>\n",
       "      <td>Entire home/apt</td>\n",
       "      <td>Entire loft</td>\n",
       "      <td>1</td>\n",
       "      <td>1</td>\n",
       "      <td>Williamsburg</td>\n",
       "      <td>Brooklyn</td>\n",
       "      <td>2</td>\n",
       "      <td>218</td>\n",
       "      <td>40</td>\n",
       "    </tr>\n",
       "    <tr>\n",
       "      <th>2</th>\n",
       "      <td>277379</td>\n",
       "      <td>Agnes</td>\n",
       "      <td>58059</td>\n",
       "      <td>https://www.airbnb.com/rooms/58059</td>\n",
       "      <td>29</td>\n",
       "      <td>58</td>\n",
       "      <td>81</td>\n",
       "      <td>130</td>\n",
       "      <td>4.71</td>\n",
       "      <td>0</td>\n",
       "      <td>...</td>\n",
       "      <td>1</td>\n",
       "      <td>Private room</td>\n",
       "      <td>Private room in rental unit</td>\n",
       "      <td>1</td>\n",
       "      <td>1</td>\n",
       "      <td>Harlem</td>\n",
       "      <td>Manhattan</td>\n",
       "      <td>2</td>\n",
       "      <td>615</td>\n",
       "      <td>39</td>\n",
       "    </tr>\n",
       "    <tr>\n",
       "      <th>3</th>\n",
       "      <td>627217</td>\n",
       "      <td>Seith</td>\n",
       "      <td>126443</td>\n",
       "      <td>https://www.airbnb.com/rooms/126443</td>\n",
       "      <td>28</td>\n",
       "      <td>53</td>\n",
       "      <td>76</td>\n",
       "      <td>110</td>\n",
       "      <td>4.33</td>\n",
       "      <td>1</td>\n",
       "      <td>...</td>\n",
       "      <td>2</td>\n",
       "      <td>Entire home/apt</td>\n",
       "      <td>Entire townhouse</td>\n",
       "      <td>1</td>\n",
       "      <td>1</td>\n",
       "      <td>East Village</td>\n",
       "      <td>Manhattan</td>\n",
       "      <td>32</td>\n",
       "      <td>516</td>\n",
       "      <td>36</td>\n",
       "    </tr>\n",
       "    <tr>\n",
       "      <th>4</th>\n",
       "      <td>277379</td>\n",
       "      <td>Agnes</td>\n",
       "      <td>476983</td>\n",
       "      <td>https://www.airbnb.com/rooms/476983</td>\n",
       "      <td>30</td>\n",
       "      <td>55</td>\n",
       "      <td>78</td>\n",
       "      <td>271</td>\n",
       "      <td>4.64</td>\n",
       "      <td>0</td>\n",
       "      <td>...</td>\n",
       "      <td>1</td>\n",
       "      <td>Private room</td>\n",
       "      <td>Private room in rental unit</td>\n",
       "      <td>1</td>\n",
       "      <td>1</td>\n",
       "      <td>Harlem</td>\n",
       "      <td>Manhattan</td>\n",
       "      <td>2</td>\n",
       "      <td>607</td>\n",
       "      <td>33</td>\n",
       "    </tr>\n",
       "  </tbody>\n",
       "</table>\n",
       "<p>5 rows × 21 columns</p>\n",
       "</div>"
      ],
      "text/plain": [
       "    host_id host_name  listing_id                           listing_url  \\\n",
       "0      8967  Shunichi        5178     https://www.airbnb.com/rooms/5178   \n",
       "1  17601262    Enrico     3495854  https://www.airbnb.com/rooms/3495854   \n",
       "2    277379     Agnes       58059    https://www.airbnb.com/rooms/58059   \n",
       "3    627217     Seith      126443   https://www.airbnb.com/rooms/126443   \n",
       "4    277379     Agnes      476983   https://www.airbnb.com/rooms/476983   \n",
       "\n",
       "   booked_out_of_30  booked_out_of_60  booked_out_of_90  booked_out_of_365  \\\n",
       "0                28                56                83                205   \n",
       "1                25                39                46                 46   \n",
       "2                29                58                81                130   \n",
       "3                28                53                76                110   \n",
       "4                30                55                78                271   \n",
       "\n",
       "   review_scores_rating_clean  instant_bookable_clean  ...  bedrooms_clean  \\\n",
       "0                        4.23                       0  ...               1   \n",
       "1                        4.69                       0  ...               1   \n",
       "2                        4.71                       0  ...               1   \n",
       "3                        4.33                       1  ...               2   \n",
       "4                        4.64                       0  ...               1   \n",
       "\n",
       "         room_type                property_type host_has_profile_pic_clean  \\\n",
       "0     Private room  Private room in rental unit                          1   \n",
       "1  Entire home/apt                  Entire loft                          1   \n",
       "2     Private room  Private room in rental unit                          1   \n",
       "3  Entire home/apt             Entire townhouse                          1   \n",
       "4     Private room  Private room in rental unit                          1   \n",
       "\n",
       "   host_identity_verified_clean  neighbourhood_cleansed  \\\n",
       "0                             0                 Midtown   \n",
       "1                             1            Williamsburg   \n",
       "2                             1                  Harlem   \n",
       "3                             1            East Village   \n",
       "4                             1                  Harlem   \n",
       "\n",
       "  neighbourhood_group_cleansed host_total_listings_count_clean  \\\n",
       "0                    Manhattan                               1   \n",
       "1                     Brooklyn                               2   \n",
       "2                    Manhattan                               2   \n",
       "3                    Manhattan                              32   \n",
       "4                    Manhattan                               2   \n",
       "\n",
       "   number_of_reviews_clean  dirty_review_count  \n",
       "0                      550                  52  \n",
       "1                      218                  40  \n",
       "2                      615                  39  \n",
       "3                      516                  36  \n",
       "4                      607                  33  \n",
       "\n",
       "[5 rows x 21 columns]"
      ]
     },
     "execution_count": 85,
     "metadata": {},
     "output_type": "execute_result"
    }
   ],
   "source": [
    "df = pd.read_csv(f'C:\\\\Users\\\\riley\\\\OneDrive\\\\Desktop\\\\Data Portfolio Project\\\\Tables\\\\clean_and_filtered_airbnb_data_v2.csv')\n",
    "df.head()"
   ]
  },
  {
   "cell_type": "code",
   "execution_count": 86,
   "id": "e1af003b",
   "metadata": {},
   "outputs": [
    {
     "data": {
      "text/html": [
       "<div>\n",
       "<style scoped>\n",
       "    .dataframe tbody tr th:only-of-type {\n",
       "        vertical-align: middle;\n",
       "    }\n",
       "\n",
       "    .dataframe tbody tr th {\n",
       "        vertical-align: top;\n",
       "    }\n",
       "\n",
       "    .dataframe thead th {\n",
       "        text-align: right;\n",
       "    }\n",
       "</style>\n",
       "<table border=\"1\" class=\"dataframe\">\n",
       "  <thead>\n",
       "    <tr style=\"text-align: right;\">\n",
       "      <th></th>\n",
       "      <th>booked_out_of_90</th>\n",
       "      <th>number_of_reviews_clean</th>\n",
       "      <th>dirty_review_count</th>\n",
       "      <th>review_scores_rating_clean</th>\n",
       "      <th>instant_bookable_clean</th>\n",
       "      <th>price_clean</th>\n",
       "      <th>bedrooms_clean</th>\n",
       "      <th>host_identity_verified_clean</th>\n",
       "    </tr>\n",
       "  </thead>\n",
       "  <tbody>\n",
       "    <tr>\n",
       "      <th>count</th>\n",
       "      <td>1132.000</td>\n",
       "      <td>1132.000</td>\n",
       "      <td>1132.000</td>\n",
       "      <td>1132.000</td>\n",
       "      <td>1132.000</td>\n",
       "      <td>1132.000</td>\n",
       "      <td>1132.000</td>\n",
       "      <td>1132.000</td>\n",
       "    </tr>\n",
       "    <tr>\n",
       "      <th>mean</th>\n",
       "      <td>59.036</td>\n",
       "      <td>121.110</td>\n",
       "      <td>5.088</td>\n",
       "      <td>4.711</td>\n",
       "      <td>0.176</td>\n",
       "      <td>160.981</td>\n",
       "      <td>1.243</td>\n",
       "      <td>0.878</td>\n",
       "    </tr>\n",
       "    <tr>\n",
       "      <th>std</th>\n",
       "      <td>27.473</td>\n",
       "      <td>105.172</td>\n",
       "      <td>5.224</td>\n",
       "      <td>0.236</td>\n",
       "      <td>0.381</td>\n",
       "      <td>112.510</td>\n",
       "      <td>0.758</td>\n",
       "      <td>0.327</td>\n",
       "    </tr>\n",
       "    <tr>\n",
       "      <th>min</th>\n",
       "      <td>0.000</td>\n",
       "      <td>1.000</td>\n",
       "      <td>1.000</td>\n",
       "      <td>2.000</td>\n",
       "      <td>0.000</td>\n",
       "      <td>21.000</td>\n",
       "      <td>0.000</td>\n",
       "      <td>0.000</td>\n",
       "    </tr>\n",
       "    <tr>\n",
       "      <th>25%</th>\n",
       "      <td>37.000</td>\n",
       "      <td>42.000</td>\n",
       "      <td>2.000</td>\n",
       "      <td>4.610</td>\n",
       "      <td>0.000</td>\n",
       "      <td>90.000</td>\n",
       "      <td>1.000</td>\n",
       "      <td>1.000</td>\n",
       "    </tr>\n",
       "    <tr>\n",
       "      <th>50%</th>\n",
       "      <td>66.000</td>\n",
       "      <td>92.000</td>\n",
       "      <td>3.000</td>\n",
       "      <td>4.760</td>\n",
       "      <td>0.000</td>\n",
       "      <td>130.000</td>\n",
       "      <td>1.000</td>\n",
       "      <td>1.000</td>\n",
       "    </tr>\n",
       "    <tr>\n",
       "      <th>75%</th>\n",
       "      <td>84.000</td>\n",
       "      <td>172.000</td>\n",
       "      <td>7.000</td>\n",
       "      <td>4.870</td>\n",
       "      <td>0.000</td>\n",
       "      <td>195.000</td>\n",
       "      <td>1.000</td>\n",
       "      <td>1.000</td>\n",
       "    </tr>\n",
       "    <tr>\n",
       "      <th>max</th>\n",
       "      <td>90.000</td>\n",
       "      <td>617.000</td>\n",
       "      <td>52.000</td>\n",
       "      <td>5.000</td>\n",
       "      <td>1.000</td>\n",
       "      <td>900.000</td>\n",
       "      <td>5.000</td>\n",
       "      <td>1.000</td>\n",
       "    </tr>\n",
       "  </tbody>\n",
       "</table>\n",
       "</div>"
      ],
      "text/plain": [
       "       booked_out_of_90  number_of_reviews_clean  dirty_review_count  \\\n",
       "count          1132.000                 1132.000            1132.000   \n",
       "mean             59.036                  121.110               5.088   \n",
       "std              27.473                  105.172               5.224   \n",
       "min               0.000                    1.000               1.000   \n",
       "25%              37.000                   42.000               2.000   \n",
       "50%              66.000                   92.000               3.000   \n",
       "75%              84.000                  172.000               7.000   \n",
       "max              90.000                  617.000              52.000   \n",
       "\n",
       "       review_scores_rating_clean  instant_bookable_clean  price_clean  \\\n",
       "count                    1132.000                1132.000     1132.000   \n",
       "mean                        4.711                   0.176      160.981   \n",
       "std                         0.236                   0.381      112.510   \n",
       "min                         2.000                   0.000       21.000   \n",
       "25%                         4.610                   0.000       90.000   \n",
       "50%                         4.760                   0.000      130.000   \n",
       "75%                         4.870                   0.000      195.000   \n",
       "max                         5.000                   1.000      900.000   \n",
       "\n",
       "       bedrooms_clean  host_identity_verified_clean  \n",
       "count        1132.000                      1132.000  \n",
       "mean            1.243                         0.878  \n",
       "std             0.758                         0.327  \n",
       "min             0.000                         0.000  \n",
       "25%             1.000                         1.000  \n",
       "50%             1.000                         1.000  \n",
       "75%             1.000                         1.000  \n",
       "max             5.000                         1.000  "
      ]
     },
     "execution_count": 86,
     "metadata": {},
     "output_type": "execute_result"
    }
   ],
   "source": [
    "df[['booked_out_of_90', 'number_of_reviews_clean', 'dirty_review_count', 'review_scores_rating_clean', 'instant_bookable_clean', 'price_clean', 'bedrooms_clean', 'host_identity_verified_clean']].describe().round(3)\n"
   ]
  },
  {
   "cell_type": "code",
   "execution_count": 87,
   "id": "86f0b9a3",
   "metadata": {},
   "outputs": [
    {
     "data": {
      "text/plain": [
       "<matplotlib.collections.PathCollection at 0x22b81f9b8b0>"
      ]
     },
     "execution_count": 87,
     "metadata": {},
     "output_type": "execute_result"
    },
    {
     "data": {
      "image/png": "[encoded data removed]",
      "text/plain": [
       "<Figure size 640x480 with 1 Axes>"
      ]
     },
     "metadata": {},
     "output_type": "display_data"
    }
   ],
   "source": [
    "%matplotlib inline\n",
    "plt.title('Relationship Between Dirty Reviews and Days Booked Out of 90 | By Listing')\n",
    "plt.xlabel('Dirty Review Count')\n",
    "plt.ylabel('Booked Out of 90 Days')\n",
    "plt.scatter(df.dirty_review_count , df.booked_out_of_90, color ='red',marker='+')"
   ]
  },
  {
   "cell_type": "markdown",
   "id": "267a3e3e",
   "metadata": {},
   "source": [
    "## Relationship Between Dirty Review Count and Days Booked Out of 90\n",
    "\n",
    "Single variable analysis with days booked out of 90 as the target (y) and count of dirty review as the only determining (x) factor"
   ]
  },
  {
   "cell_type": "code",
   "execution_count": 88,
   "id": "de28b567",
   "metadata": {},
   "outputs": [
    {
     "data": {
      "text/html": [
       "<style>#sk-container-id-7 {color: black;background-color: white;}#sk-container-id-7 pre{padding: 0;}#sk-container-id-7 div.sk-toggleable {background-color: white;}#sk-container-id-7 label.sk-toggleable__label {cursor: pointer;display: block;width: 100%;margin-bottom: 0;padding: 0.3em;box-sizing: border-box;text-align: center;}#sk-container-id-7 label.sk-toggleable__label-arrow:before {content: \"▸\";float: left;margin-right: 0.25em;color: #696969;}#sk-container-id-7 label.sk-toggleable__label-arrow:hover:before {color: black;}#sk-container-id-7 div.sk-estimator:hover label.sk-toggleable__label-arrow:before {color: black;}#sk-container-id-7 div.sk-toggleable__content {max-height: 0;max-width: 0;overflow: hidden;text-align: left;background-color: #f0f8ff;}#sk-container-id-7 div.sk-toggleable__content pre {margin: 0.2em;color: black;border-radius: 0.25em;background-color: #f0f8ff;}#sk-container-id-7 input.sk-toggleable__control:checked~div.sk-toggleable__content {max-height: 200px;max-width: 100%;overflow: auto;}#sk-container-id-7 input.sk-toggleable__control:checked~label.sk-toggleable__label-arrow:before {content: \"▾\";}#sk-container-id-7 div.sk-estimator input.sk-toggleable__control:checked~label.sk-toggleable__label {background-color: #d4ebff;}#sk-container-id-7 div.sk-label input.sk-toggleable__control:checked~label.sk-toggleable__label {background-color: #d4ebff;}#sk-container-id-7 input.sk-hidden--visually {border: 0;clip: rect(1px 1px 1px 1px);clip: rect(1px, 1px, 1px, 1px);height: 1px;margin: -1px;overflow: hidden;padding: 0;position: absolute;width: 1px;}#sk-container-id-7 div.sk-estimator {font-family: monospace;background-color: #f0f8ff;border: 1px dotted black;border-radius: 0.25em;box-sizing: border-box;margin-bottom: 0.5em;}#sk-container-id-7 div.sk-estimator:hover {background-color: #d4ebff;}#sk-container-id-7 div.sk-parallel-item::after {content: \"\";width: 100%;border-bottom: 1px solid gray;flex-grow: 1;}#sk-container-id-7 div.sk-label:hover label.sk-toggleable__label {background-color: #d4ebff;}#sk-container-id-7 div.sk-serial::before {content: \"\";position: absolute;border-left: 1px solid gray;box-sizing: border-box;top: 0;bottom: 0;left: 50%;z-index: 0;}#sk-container-id-7 div.sk-serial {display: flex;flex-direction: column;align-items: center;background-color: white;padding-right: 0.2em;padding-left: 0.2em;position: relative;}#sk-container-id-7 div.sk-item {position: relative;z-index: 1;}#sk-container-id-7 div.sk-parallel {display: flex;align-items: stretch;justify-content: center;background-color: white;position: relative;}#sk-container-id-7 div.sk-item::before, #sk-container-id-7 div.sk-parallel-item::before {content: \"\";position: absolute;border-left: 1px solid gray;box-sizing: border-box;top: 0;bottom: 0;left: 50%;z-index: -1;}#sk-container-id-7 div.sk-parallel-item {display: flex;flex-direction: column;z-index: 1;position: relative;background-color: white;}#sk-container-id-7 div.sk-parallel-item:first-child::after {align-self: flex-end;width: 50%;}#sk-container-id-7 div.sk-parallel-item:last-child::after {align-self: flex-start;width: 50%;}#sk-container-id-7 div.sk-parallel-item:only-child::after {width: 0;}#sk-container-id-7 div.sk-dashed-wrapped {border: 1px dashed gray;margin: 0 0.4em 0.5em 0.4em;box-sizing: border-box;padding-bottom: 0.4em;background-color: white;}#sk-container-id-7 div.sk-label label {font-family: monospace;font-weight: bold;display: inline-block;line-height: 1.2em;}#sk-container-id-7 div.sk-label-container {text-align: center;}#sk-container-id-7 div.sk-container {/* jupyter's `normalize.less` sets `[hidden] { display: none; }` but bootstrap.min.css set `[hidden] { display: none !important; }` so we also need the `!important` here to be able to override the default hidden behavior on the sphinx rendered scikit-learn.org. See: https://github.com/scikit-learn/scikit-learn/issues/21755 */display: inline-block !important;position: relative;}#sk-container-id-7 div.sk-text-repr-fallback {display: none;}</style><div id=\"sk-container-id-7\" class=\"sk-top-container\"><div class=\"sk-text-repr-fallback\"><pre>LinearRegression()</pre><b>In a Jupyter environment, please rerun this cell to show the HTML representation or trust the notebook. <br />On GitHub, the HTML representation is unable to render, please try loading this page with nbviewer.org.</b></div><div class=\"sk-container\" hidden><div class=\"sk-item\"><div class=\"sk-estimator sk-toggleable\"><input class=\"sk-toggleable__control sk-hidden--visually\" id=\"sk-estimator-id-7\" type=\"checkbox\" checked><label for=\"sk-estimator-id-7\" class=\"sk-toggleable__label sk-toggleable__label-arrow\">LinearRegression</label><div class=\"sk-toggleable__content\"><pre>LinearRegression()</pre></div></div></div></div></div>"
      ],
      "text/plain": [
       "LinearRegression()"
      ]
     },
     "execution_count": 88,
     "metadata": {},
     "output_type": "execute_result"
    }
   ],
   "source": [
    "reg = linear_model.LinearRegression()\n",
    "reg.fit(df[['dirty_review_count']],df.booked_out_of_90)"
   ]
  },
  {
   "cell_type": "code",
   "execution_count": 89,
   "id": "7b8dd0e0",
   "metadata": {},
   "outputs": [
    {
     "name": "stderr",
     "output_type": "stream",
     "text": [
      "c:\\Users\\riley\\AppData\\Local\\Programs\\Python\\Python310\\lib\\site-packages\\sklearn\\base.py:450: UserWarning: X does not have valid feature names, but LinearRegression was fitted with feature names\n",
      "  warnings.warn(\n"
     ]
    },
    {
     "data": {
      "text/plain": [
       "array([57.32840291])"
      ]
     },
     "execution_count": 89,
     "metadata": {},
     "output_type": "execute_result"
    }
   ],
   "source": [
    "reg.predict([[0]])"
   ]
  },
  {
   "cell_type": "code",
   "execution_count": 90,
   "id": "68a8a774",
   "metadata": {},
   "outputs": [
    {
     "data": {
      "text/plain": [
       "array([0.336])"
      ]
     },
     "execution_count": 90,
     "metadata": {},
     "output_type": "execute_result"
    }
   ],
   "source": [
    "reg.coef_.round(3)"
   ]
  },
  {
   "cell_type": "code",
   "execution_count": 91,
   "id": "007250e8",
   "metadata": {},
   "outputs": [
    {
     "data": {
      "text/plain": [
       "57.328"
      ]
     },
     "execution_count": 91,
     "metadata": {},
     "output_type": "execute_result"
    }
   ],
   "source": [
    "reg.intercept_.round(3)"
   ]
  },
  {
   "cell_type": "markdown",
   "id": "9e7a7589",
   "metadata": {},
   "source": [
    "## Multivariable Linear Regression\n",
    "Other numerical variables are added to the regression. The purpose of this is to bring endogenous variables out of the error term that impacts both days booked out of 90 and the number of dirty reviews a listing has.\n",
    "For example, listings with more reviews may be more likely to be booked and also be more likely to have dirty reviews. While in the error term, number of reviews a lsiting has would positvely bias the beta coeefficent \n",
    "of dirty reviews feature (x) causing us to overstate its impact on bookings (y)."
   ]
  },
  {
   "cell_type": "code",
   "execution_count": 92,
   "id": "093b62ad",
   "metadata": {},
   "outputs": [
    {
     "data": {
      "text/html": [
       "<style>#sk-container-id-8 {color: black;background-color: white;}#sk-container-id-8 pre{padding: 0;}#sk-container-id-8 div.sk-toggleable {background-color: white;}#sk-container-id-8 label.sk-toggleable__label {cursor: pointer;display: block;width: 100%;margin-bottom: 0;padding: 0.3em;box-sizing: border-box;text-align: center;}#sk-container-id-8 label.sk-toggleable__label-arrow:before {content: \"▸\";float: left;margin-right: 0.25em;color: #696969;}#sk-container-id-8 label.sk-toggleable__label-arrow:hover:before {color: black;}#sk-container-id-8 div.sk-estimator:hover label.sk-toggleable__label-arrow:before {color: black;}#sk-container-id-8 div.sk-toggleable__content {max-height: 0;max-width: 0;overflow: hidden;text-align: left;background-color: #f0f8ff;}#sk-container-id-8 div.sk-toggleable__content pre {margin: 0.2em;color: black;border-radius: 0.25em;background-color: #f0f8ff;}#sk-container-id-8 input.sk-toggleable__control:checked~div.sk-toggleable__content {max-height: 200px;max-width: 100%;overflow: auto;}#sk-container-id-8 input.sk-toggleable__control:checked~label.sk-toggleable__label-arrow:before {content: \"▾\";}#sk-container-id-8 div.sk-estimator input.sk-toggleable__control:checked~label.sk-toggleable__label {background-color: #d4ebff;}#sk-container-id-8 div.sk-label input.sk-toggleable__control:checked~label.sk-toggleable__label {background-color: #d4ebff;}#sk-container-id-8 input.sk-hidden--visually {border: 0;clip: rect(1px 1px 1px 1px);clip: rect(1px, 1px, 1px, 1px);height: 1px;margin: -1px;overflow: hidden;padding: 0;position: absolute;width: 1px;}#sk-container-id-8 div.sk-estimator {font-family: monospace;background-color: #f0f8ff;border: 1px dotted black;border-radius: 0.25em;box-sizing: border-box;margin-bottom: 0.5em;}#sk-container-id-8 div.sk-estimator:hover {background-color: #d4ebff;}#sk-container-id-8 div.sk-parallel-item::after {content: \"\";width: 100%;border-bottom: 1px solid gray;flex-grow: 1;}#sk-container-id-8 div.sk-label:hover label.sk-toggleable__label {background-color: #d4ebff;}#sk-container-id-8 div.sk-serial::before {content: \"\";position: absolute;border-left: 1px solid gray;box-sizing: border-box;top: 0;bottom: 0;left: 50%;z-index: 0;}#sk-container-id-8 div.sk-serial {display: flex;flex-direction: column;align-items: center;background-color: white;padding-right: 0.2em;padding-left: 0.2em;position: relative;}#sk-container-id-8 div.sk-item {position: relative;z-index: 1;}#sk-container-id-8 div.sk-parallel {display: flex;align-items: stretch;justify-content: center;background-color: white;position: relative;}#sk-container-id-8 div.sk-item::before, #sk-container-id-8 div.sk-parallel-item::before {content: \"\";position: absolute;border-left: 1px solid gray;box-sizing: border-box;top: 0;bottom: 0;left: 50%;z-index: -1;}#sk-container-id-8 div.sk-parallel-item {display: flex;flex-direction: column;z-index: 1;position: relative;background-color: white;}#sk-container-id-8 div.sk-parallel-item:first-child::after {align-self: flex-end;width: 50%;}#sk-container-id-8 div.sk-parallel-item:last-child::after {align-self: flex-start;width: 50%;}#sk-container-id-8 div.sk-parallel-item:only-child::after {width: 0;}#sk-container-id-8 div.sk-dashed-wrapped {border: 1px dashed gray;margin: 0 0.4em 0.5em 0.4em;box-sizing: border-box;padding-bottom: 0.4em;background-color: white;}#sk-container-id-8 div.sk-label label {font-family: monospace;font-weight: bold;display: inline-block;line-height: 1.2em;}#sk-container-id-8 div.sk-label-container {text-align: center;}#sk-container-id-8 div.sk-container {/* jupyter's `normalize.less` sets `[hidden] { display: none; }` but bootstrap.min.css set `[hidden] { display: none !important; }` so we also need the `!important` here to be able to override the default hidden behavior on the sphinx rendered scikit-learn.org. See: https://github.com/scikit-learn/scikit-learn/issues/21755 */display: inline-block !important;position: relative;}#sk-container-id-8 div.sk-text-repr-fallback {display: none;}</style><div id=\"sk-container-id-8\" class=\"sk-top-container\"><div class=\"sk-text-repr-fallback\"><pre>LinearRegression()</pre><b>In a Jupyter environment, please rerun this cell to show the HTML representation or trust the notebook. <br />On GitHub, the HTML representation is unable to render, please try loading this page with nbviewer.org.</b></div><div class=\"sk-container\" hidden><div class=\"sk-item\"><div class=\"sk-estimator sk-toggleable\"><input class=\"sk-toggleable__control sk-hidden--visually\" id=\"sk-estimator-id-8\" type=\"checkbox\" checked><label for=\"sk-estimator-id-8\" class=\"sk-toggleable__label sk-toggleable__label-arrow\">LinearRegression</label><div class=\"sk-toggleable__content\"><pre>LinearRegression()</pre></div></div></div></div></div>"
      ],
      "text/plain": [
       "LinearRegression()"
      ]
     },
     "execution_count": 92,
     "metadata": {},
     "output_type": "execute_result"
    }
   ],
   "source": [
    "reg_1 = linear_model.LinearRegression()\n",
    "reg_1.fit(df[['dirty_review_count', 'number_of_reviews_clean', 'bedrooms_clean', 'price_clean', 'review_scores_rating_clean', 'instant_bookable_clean', 'host_identity_verified_clean' ]], df.booked_out_of_90)"
   ]
  },
  {
   "cell_type": "code",
   "execution_count": 93,
   "id": "f8178489",
   "metadata": {},
   "outputs": [
    {
     "data": {
      "text/plain": [
       "array([ 0.066,  0.018,  2.71 , -0.034, 10.619, -2.248,  2.28 ])"
      ]
     },
     "execution_count": 93,
     "metadata": {},
     "output_type": "execute_result"
    }
   ],
   "source": [
    "reg_1.coef_.round(3)"
   ]
  },
  {
   "cell_type": "code",
   "execution_count": 94,
   "id": "606f0775",
   "metadata": {},
   "outputs": [
    {
     "data": {
      "text/plain": [
       "6.864656584511316"
      ]
     },
     "execution_count": 94,
     "metadata": {},
     "output_type": "execute_result"
    }
   ],
   "source": [
    "reg_1.intercept_"
   ]
  },
  {
   "cell_type": "code",
   "execution_count": 95,
   "id": "77c25737",
   "metadata": {},
   "outputs": [
    {
     "name": "stderr",
     "output_type": "stream",
     "text": [
      "c:\\Users\\riley\\AppData\\Local\\Programs\\Python\\Python310\\lib\\site-packages\\sklearn\\base.py:450: UserWarning: X does not have valid feature names, but LinearRegression was fitted with feature names\n",
      "  warnings.warn(\n"
     ]
    },
    {
     "data": {
      "text/plain": [
       "array([57.329])"
      ]
     },
     "execution_count": 95,
     "metadata": {},
     "output_type": "execute_result"
    }
   ],
   "source": [
    "reg_1.predict([[30, 50, 1, 60, 4.2, 0, 1 ]]).round(3)"
   ]
  },
  {
   "cell_type": "markdown",
   "id": "d534315a",
   "metadata": {},
   "source": [
    "## Dummy coding of categorical features using One-Hot-Encoding"
   ]
  },
  {
   "cell_type": "markdown",
   "id": "b10c2083",
   "metadata": {},
   "source": [
    "First things first, features are dropped from the dataframe that will not be used in the analysis. The remaining categorical features will be tranformed into dummy variables later on."
   ]
  },
  {
   "cell_type": "code",
   "execution_count": 96,
   "id": "e1e56871",
   "metadata": {},
   "outputs": [
    {
     "data": {
      "text/html": [
       "<div>\n",
       "<style scoped>\n",
       "    .dataframe tbody tr th:only-of-type {\n",
       "        vertical-align: middle;\n",
       "    }\n",
       "\n",
       "    .dataframe tbody tr th {\n",
       "        vertical-align: top;\n",
       "    }\n",
       "\n",
       "    .dataframe thead th {\n",
       "        text-align: right;\n",
       "    }\n",
       "</style>\n",
       "<table border=\"1\" class=\"dataframe\">\n",
       "  <thead>\n",
       "    <tr style=\"text-align: right;\">\n",
       "      <th></th>\n",
       "      <th>booked_out_of_90</th>\n",
       "      <th>review_scores_rating_clean</th>\n",
       "      <th>instant_bookable_clean</th>\n",
       "      <th>price_clean</th>\n",
       "      <th>bedrooms_clean</th>\n",
       "      <th>room_type</th>\n",
       "      <th>host_identity_verified_clean</th>\n",
       "      <th>neighbourhood_group_cleansed</th>\n",
       "      <th>number_of_reviews_clean</th>\n",
       "      <th>dirty_review_count</th>\n",
       "    </tr>\n",
       "  </thead>\n",
       "  <tbody>\n",
       "    <tr>\n",
       "      <th>0</th>\n",
       "      <td>83</td>\n",
       "      <td>4.23</td>\n",
       "      <td>0</td>\n",
       "      <td>68</td>\n",
       "      <td>1</td>\n",
       "      <td>Private room</td>\n",
       "      <td>0</td>\n",
       "      <td>Manhattan</td>\n",
       "      <td>550</td>\n",
       "      <td>52</td>\n",
       "    </tr>\n",
       "    <tr>\n",
       "      <th>1</th>\n",
       "      <td>46</td>\n",
       "      <td>4.69</td>\n",
       "      <td>0</td>\n",
       "      <td>181</td>\n",
       "      <td>1</td>\n",
       "      <td>Entire home/apt</td>\n",
       "      <td>1</td>\n",
       "      <td>Brooklyn</td>\n",
       "      <td>218</td>\n",
       "      <td>40</td>\n",
       "    </tr>\n",
       "    <tr>\n",
       "      <th>2</th>\n",
       "      <td>81</td>\n",
       "      <td>4.71</td>\n",
       "      <td>0</td>\n",
       "      <td>60</td>\n",
       "      <td>1</td>\n",
       "      <td>Private room</td>\n",
       "      <td>1</td>\n",
       "      <td>Manhattan</td>\n",
       "      <td>615</td>\n",
       "      <td>39</td>\n",
       "    </tr>\n",
       "    <tr>\n",
       "      <th>3</th>\n",
       "      <td>76</td>\n",
       "      <td>4.33</td>\n",
       "      <td>1</td>\n",
       "      <td>459</td>\n",
       "      <td>2</td>\n",
       "      <td>Entire home/apt</td>\n",
       "      <td>1</td>\n",
       "      <td>Manhattan</td>\n",
       "      <td>516</td>\n",
       "      <td>36</td>\n",
       "    </tr>\n",
       "    <tr>\n",
       "      <th>4</th>\n",
       "      <td>78</td>\n",
       "      <td>4.64</td>\n",
       "      <td>0</td>\n",
       "      <td>59</td>\n",
       "      <td>1</td>\n",
       "      <td>Private room</td>\n",
       "      <td>1</td>\n",
       "      <td>Manhattan</td>\n",
       "      <td>607</td>\n",
       "      <td>33</td>\n",
       "    </tr>\n",
       "  </tbody>\n",
       "</table>\n",
       "</div>"
      ],
      "text/plain": [
       "   booked_out_of_90  review_scores_rating_clean  instant_bookable_clean  \\\n",
       "0                83                        4.23                       0   \n",
       "1                46                        4.69                       0   \n",
       "2                81                        4.71                       0   \n",
       "3                76                        4.33                       1   \n",
       "4                78                        4.64                       0   \n",
       "\n",
       "   price_clean  bedrooms_clean        room_type  host_identity_verified_clean  \\\n",
       "0           68               1     Private room                             0   \n",
       "1          181               1  Entire home/apt                             1   \n",
       "2           60               1     Private room                             1   \n",
       "3          459               2  Entire home/apt                             1   \n",
       "4           59               1     Private room                             1   \n",
       "\n",
       "  neighbourhood_group_cleansed  number_of_reviews_clean  dirty_review_count  \n",
       "0                    Manhattan                      550                  52  \n",
       "1                     Brooklyn                      218                  40  \n",
       "2                    Manhattan                      615                  39  \n",
       "3                    Manhattan                      516                  36  \n",
       "4                    Manhattan                      607                  33  "
      ]
     },
     "execution_count": 96,
     "metadata": {},
     "output_type": "execute_result"
    }
   ],
   "source": [
    "df_1=df.drop(['listing_id', 'host_id', 'host_name', 'listing_url', 'booked_out_of_30', 'booked_out_of_60', 'booked_out_of_365', 'property_type', 'host_has_profile_pic_clean', 'neighbourhood_cleansed', 'host_total_listings_count_clean',], axis = 'columns')\n",
    "df_1.head()"
   ]
  },
  {
   "cell_type": "markdown",
   "id": "d33063eb",
   "metadata": {},
   "source": [
    "Now seperate the features from the taeget variable (days_booked_out_of_90)"
   ]
  },
  {
   "cell_type": "code",
   "execution_count": 97,
   "id": "1da2b68a",
   "metadata": {},
   "outputs": [],
   "source": [
    "df_1_x =df_1.drop('booked_out_of_90', axis=1)\n",
    "df_1_y = df_1['booked_out_of_90']\n"
   ]
  },
  {
   "cell_type": "code",
   "execution_count": 98,
   "id": "d0682914",
   "metadata": {},
   "outputs": [
    {
     "data": {
      "text/html": [
       "<div>\n",
       "<style scoped>\n",
       "    .dataframe tbody tr th:only-of-type {\n",
       "        vertical-align: middle;\n",
       "    }\n",
       "\n",
       "    .dataframe tbody tr th {\n",
       "        vertical-align: top;\n",
       "    }\n",
       "\n",
       "    .dataframe thead th {\n",
       "        text-align: right;\n",
       "    }\n",
       "</style>\n",
       "<table border=\"1\" class=\"dataframe\">\n",
       "  <thead>\n",
       "    <tr style=\"text-align: right;\">\n",
       "      <th></th>\n",
       "      <th>review_scores_rating_clean</th>\n",
       "      <th>instant_bookable_clean</th>\n",
       "      <th>price_clean</th>\n",
       "      <th>bedrooms_clean</th>\n",
       "      <th>room_type</th>\n",
       "      <th>host_identity_verified_clean</th>\n",
       "      <th>neighbourhood_group_cleansed</th>\n",
       "      <th>number_of_reviews_clean</th>\n",
       "      <th>dirty_review_count</th>\n",
       "    </tr>\n",
       "  </thead>\n",
       "  <tbody>\n",
       "    <tr>\n",
       "      <th>0</th>\n",
       "      <td>4.23</td>\n",
       "      <td>0</td>\n",
       "      <td>68</td>\n",
       "      <td>1</td>\n",
       "      <td>Private room</td>\n",
       "      <td>0</td>\n",
       "      <td>Manhattan</td>\n",
       "      <td>550</td>\n",
       "      <td>52</td>\n",
       "    </tr>\n",
       "    <tr>\n",
       "      <th>1</th>\n",
       "      <td>4.69</td>\n",
       "      <td>0</td>\n",
       "      <td>181</td>\n",
       "      <td>1</td>\n",
       "      <td>Entire home/apt</td>\n",
       "      <td>1</td>\n",
       "      <td>Brooklyn</td>\n",
       "      <td>218</td>\n",
       "      <td>40</td>\n",
       "    </tr>\n",
       "    <tr>\n",
       "      <th>2</th>\n",
       "      <td>4.71</td>\n",
       "      <td>0</td>\n",
       "      <td>60</td>\n",
       "      <td>1</td>\n",
       "      <td>Private room</td>\n",
       "      <td>1</td>\n",
       "      <td>Manhattan</td>\n",
       "      <td>615</td>\n",
       "      <td>39</td>\n",
       "    </tr>\n",
       "    <tr>\n",
       "      <th>3</th>\n",
       "      <td>4.33</td>\n",
       "      <td>1</td>\n",
       "      <td>459</td>\n",
       "      <td>2</td>\n",
       "      <td>Entire home/apt</td>\n",
       "      <td>1</td>\n",
       "      <td>Manhattan</td>\n",
       "      <td>516</td>\n",
       "      <td>36</td>\n",
       "    </tr>\n",
       "    <tr>\n",
       "      <th>4</th>\n",
       "      <td>4.64</td>\n",
       "      <td>0</td>\n",
       "      <td>59</td>\n",
       "      <td>1</td>\n",
       "      <td>Private room</td>\n",
       "      <td>1</td>\n",
       "      <td>Manhattan</td>\n",
       "      <td>607</td>\n",
       "      <td>33</td>\n",
       "    </tr>\n",
       "  </tbody>\n",
       "</table>\n",
       "</div>"
      ],
      "text/plain": [
       "   review_scores_rating_clean  instant_bookable_clean  price_clean  \\\n",
       "0                        4.23                       0           68   \n",
       "1                        4.69                       0          181   \n",
       "2                        4.71                       0           60   \n",
       "3                        4.33                       1          459   \n",
       "4                        4.64                       0           59   \n",
       "\n",
       "   bedrooms_clean        room_type  host_identity_verified_clean  \\\n",
       "0               1     Private room                             0   \n",
       "1               1  Entire home/apt                             1   \n",
       "2               1     Private room                             1   \n",
       "3               2  Entire home/apt                             1   \n",
       "4               1     Private room                             1   \n",
       "\n",
       "  neighbourhood_group_cleansed  number_of_reviews_clean  dirty_review_count  \n",
       "0                    Manhattan                      550                  52  \n",
       "1                     Brooklyn                      218                  40  \n",
       "2                    Manhattan                      615                  39  \n",
       "3                    Manhattan                      516                  36  \n",
       "4                    Manhattan                      607                  33  "
      ]
     },
     "execution_count": 98,
     "metadata": {},
     "output_type": "execute_result"
    }
   ],
   "source": [
    "df_1_x.head()"
   ]
  },
  {
   "cell_type": "code",
   "execution_count": 99,
   "id": "f0711563",
   "metadata": {},
   "outputs": [
    {
     "data": {
      "text/plain": [
       "0    83\n",
       "1    46\n",
       "2    81\n",
       "3    76\n",
       "4    78\n",
       "Name: booked_out_of_90, dtype: int64"
      ]
     },
     "execution_count": 99,
     "metadata": {},
     "output_type": "execute_result"
    }
   ],
   "source": [
    "df_1_y.head()"
   ]
  },
  {
   "cell_type": "markdown",
   "id": "47d781a1",
   "metadata": {},
   "source": [
    "Replace all categorical data with \"dummy\" variables through one-hot-encoding\n",
    "\n",
    "Why? Sklearn linear regresison cant deal with categorical data, it need to be in numerical format. The easy way to achieve that is to create multiple columns, one for each, possible value of the categorical data.\n",
    "\n",
    "Example: Neighbourhood_group with the values Brooklyn, Manhatten, Staten Island, & The Bronx replaced by columns for each distint value that appears. Then each row has a 1 or a zero depending on if the listing is in this particular neighbourhood as a characteristic. One of them can be left out of those columns to save redundant information, becasue if 4 of the 5 bouroughs are False then the only remaining possibility is that its in the final bourough"
   ]
  },
  {
   "cell_type": "code",
   "execution_count": 100,
   "id": "4872f898",
   "metadata": {},
   "outputs": [
    {
     "data": {
      "text/html": [
       "<div>\n",
       "<style scoped>\n",
       "    .dataframe tbody tr th:only-of-type {\n",
       "        vertical-align: middle;\n",
       "    }\n",
       "\n",
       "    .dataframe tbody tr th {\n",
       "        vertical-align: top;\n",
       "    }\n",
       "\n",
       "    .dataframe thead th {\n",
       "        text-align: right;\n",
       "    }\n",
       "</style>\n",
       "<table border=\"1\" class=\"dataframe\">\n",
       "  <thead>\n",
       "    <tr style=\"text-align: right;\">\n",
       "      <th></th>\n",
       "      <th>review_scores_rating_clean</th>\n",
       "      <th>instant_bookable_clean</th>\n",
       "      <th>price_clean</th>\n",
       "      <th>bedrooms_clean</th>\n",
       "      <th>host_identity_verified_clean</th>\n",
       "      <th>number_of_reviews_clean</th>\n",
       "      <th>dirty_review_count</th>\n",
       "      <th>room_type_Hotel room</th>\n",
       "      <th>room_type_Private room</th>\n",
       "      <th>room_type_Shared room</th>\n",
       "      <th>neighbourhood_group_cleansed_Brooklyn</th>\n",
       "      <th>neighbourhood_group_cleansed_Manhattan</th>\n",
       "      <th>neighbourhood_group_cleansed_Queens</th>\n",
       "      <th>neighbourhood_group_cleansed_Staten Island</th>\n",
       "    </tr>\n",
       "  </thead>\n",
       "  <tbody>\n",
       "    <tr>\n",
       "      <th>0</th>\n",
       "      <td>4.23</td>\n",
       "      <td>0</td>\n",
       "      <td>68</td>\n",
       "      <td>1</td>\n",
       "      <td>0</td>\n",
       "      <td>550</td>\n",
       "      <td>52</td>\n",
       "      <td>0</td>\n",
       "      <td>1</td>\n",
       "      <td>0</td>\n",
       "      <td>0</td>\n",
       "      <td>1</td>\n",
       "      <td>0</td>\n",
       "      <td>0</td>\n",
       "    </tr>\n",
       "    <tr>\n",
       "      <th>1</th>\n",
       "      <td>4.69</td>\n",
       "      <td>0</td>\n",
       "      <td>181</td>\n",
       "      <td>1</td>\n",
       "      <td>1</td>\n",
       "      <td>218</td>\n",
       "      <td>40</td>\n",
       "      <td>0</td>\n",
       "      <td>0</td>\n",
       "      <td>0</td>\n",
       "      <td>1</td>\n",
       "      <td>0</td>\n",
       "      <td>0</td>\n",
       "      <td>0</td>\n",
       "    </tr>\n",
       "    <tr>\n",
       "      <th>2</th>\n",
       "      <td>4.71</td>\n",
       "      <td>0</td>\n",
       "      <td>60</td>\n",
       "      <td>1</td>\n",
       "      <td>1</td>\n",
       "      <td>615</td>\n",
       "      <td>39</td>\n",
       "      <td>0</td>\n",
       "      <td>1</td>\n",
       "      <td>0</td>\n",
       "      <td>0</td>\n",
       "      <td>1</td>\n",
       "      <td>0</td>\n",
       "      <td>0</td>\n",
       "    </tr>\n",
       "    <tr>\n",
       "      <th>3</th>\n",
       "      <td>4.33</td>\n",
       "      <td>1</td>\n",
       "      <td>459</td>\n",
       "      <td>2</td>\n",
       "      <td>1</td>\n",
       "      <td>516</td>\n",
       "      <td>36</td>\n",
       "      <td>0</td>\n",
       "      <td>0</td>\n",
       "      <td>0</td>\n",
       "      <td>0</td>\n",
       "      <td>1</td>\n",
       "      <td>0</td>\n",
       "      <td>0</td>\n",
       "    </tr>\n",
       "    <tr>\n",
       "      <th>4</th>\n",
       "      <td>4.64</td>\n",
       "      <td>0</td>\n",
       "      <td>59</td>\n",
       "      <td>1</td>\n",
       "      <td>1</td>\n",
       "      <td>607</td>\n",
       "      <td>33</td>\n",
       "      <td>0</td>\n",
       "      <td>1</td>\n",
       "      <td>0</td>\n",
       "      <td>0</td>\n",
       "      <td>1</td>\n",
       "      <td>0</td>\n",
       "      <td>0</td>\n",
       "    </tr>\n",
       "  </tbody>\n",
       "</table>\n",
       "</div>"
      ],
      "text/plain": [
       "   review_scores_rating_clean  instant_bookable_clean  price_clean  \\\n",
       "0                        4.23                       0           68   \n",
       "1                        4.69                       0          181   \n",
       "2                        4.71                       0           60   \n",
       "3                        4.33                       1          459   \n",
       "4                        4.64                       0           59   \n",
       "\n",
       "   bedrooms_clean  host_identity_verified_clean  number_of_reviews_clean  \\\n",
       "0               1                             0                      550   \n",
       "1               1                             1                      218   \n",
       "2               1                             1                      615   \n",
       "3               2                             1                      516   \n",
       "4               1                             1                      607   \n",
       "\n",
       "   dirty_review_count  room_type_Hotel room  room_type_Private room  \\\n",
       "0                  52                     0                       1   \n",
       "1                  40                     0                       0   \n",
       "2                  39                     0                       1   \n",
       "3                  36                     0                       0   \n",
       "4                  33                     0                       1   \n",
       "\n",
       "   room_type_Shared room  neighbourhood_group_cleansed_Brooklyn  \\\n",
       "0                      0                                      0   \n",
       "1                      0                                      1   \n",
       "2                      0                                      0   \n",
       "3                      0                                      0   \n",
       "4                      0                                      0   \n",
       "\n",
       "   neighbourhood_group_cleansed_Manhattan  \\\n",
       "0                                       1   \n",
       "1                                       0   \n",
       "2                                       1   \n",
       "3                                       1   \n",
       "4                                       1   \n",
       "\n",
       "   neighbourhood_group_cleansed_Queens  \\\n",
       "0                                    0   \n",
       "1                                    0   \n",
       "2                                    0   \n",
       "3                                    0   \n",
       "4                                    0   \n",
       "\n",
       "   neighbourhood_group_cleansed_Staten Island  \n",
       "0                                           0  \n",
       "1                                           0  \n",
       "2                                           0  \n",
       "3                                           0  \n",
       "4                                           0  "
      ]
     },
     "execution_count": 100,
     "metadata": {},
     "output_type": "execute_result"
    }
   ],
   "source": [
    "df_1_x_encoded = pd.get_dummies(df_1_x, drop_first=True)\n",
    "df_1_x_encoded.head()"
   ]
  },
  {
   "cell_type": "markdown",
   "id": "c0002100",
   "metadata": {},
   "source": [
    "Thats it for pre-processing.\n",
    "\n",
    "Next we will train the model, and find our coefficent for the feature of interest(dirty_review_count), p-value, and overall model fit (r^2) to determine its impact on bookings.\n",
    "\n",
    "\n"
   ]
  },
  {
   "cell_type": "code",
   "execution_count": 101,
   "id": "17ee772a",
   "metadata": {},
   "outputs": [],
   "source": [
    "from sklearn.linear_model import LinearRegression\n",
    "reg_2 = LinearRegression()\n"
   ]
  },
  {
   "cell_type": "code",
   "execution_count": 102,
   "id": "34af47a2",
   "metadata": {},
   "outputs": [
    {
     "data": {
      "text/html": [
       "<style>#sk-container-id-9 {color: black;background-color: white;}#sk-container-id-9 pre{padding: 0;}#sk-container-id-9 div.sk-toggleable {background-color: white;}#sk-container-id-9 label.sk-toggleable__label {cursor: pointer;display: block;width: 100%;margin-bottom: 0;padding: 0.3em;box-sizing: border-box;text-align: center;}#sk-container-id-9 label.sk-toggleable__label-arrow:before {content: \"▸\";float: left;margin-right: 0.25em;color: #696969;}#sk-container-id-9 label.sk-toggleable__label-arrow:hover:before {color: black;}#sk-container-id-9 div.sk-estimator:hover label.sk-toggleable__label-arrow:before {color: black;}#sk-container-id-9 div.sk-toggleable__content {max-height: 0;max-width: 0;overflow: hidden;text-align: left;background-color: #f0f8ff;}#sk-container-id-9 div.sk-toggleable__content pre {margin: 0.2em;color: black;border-radius: 0.25em;background-color: #f0f8ff;}#sk-container-id-9 input.sk-toggleable__control:checked~div.sk-toggleable__content {max-height: 200px;max-width: 100%;overflow: auto;}#sk-container-id-9 input.sk-toggleable__control:checked~label.sk-toggleable__label-arrow:before {content: \"▾\";}#sk-container-id-9 div.sk-estimator input.sk-toggleable__control:checked~label.sk-toggleable__label {background-color: #d4ebff;}#sk-container-id-9 div.sk-label input.sk-toggleable__control:checked~label.sk-toggleable__label {background-color: #d4ebff;}#sk-container-id-9 input.sk-hidden--visually {border: 0;clip: rect(1px 1px 1px 1px);clip: rect(1px, 1px, 1px, 1px);height: 1px;margin: -1px;overflow: hidden;padding: 0;position: absolute;width: 1px;}#sk-container-id-9 div.sk-estimator {font-family: monospace;background-color: #f0f8ff;border: 1px dotted black;border-radius: 0.25em;box-sizing: border-box;margin-bottom: 0.5em;}#sk-container-id-9 div.sk-estimator:hover {background-color: #d4ebff;}#sk-container-id-9 div.sk-parallel-item::after {content: \"\";width: 100%;border-bottom: 1px solid gray;flex-grow: 1;}#sk-container-id-9 div.sk-label:hover label.sk-toggleable__label {background-color: #d4ebff;}#sk-container-id-9 div.sk-serial::before {content: \"\";position: absolute;border-left: 1px solid gray;box-sizing: border-box;top: 0;bottom: 0;left: 50%;z-index: 0;}#sk-container-id-9 div.sk-serial {display: flex;flex-direction: column;align-items: center;background-color: white;padding-right: 0.2em;padding-left: 0.2em;position: relative;}#sk-container-id-9 div.sk-item {position: relative;z-index: 1;}#sk-container-id-9 div.sk-parallel {display: flex;align-items: stretch;justify-content: center;background-color: white;position: relative;}#sk-container-id-9 div.sk-item::before, #sk-container-id-9 div.sk-parallel-item::before {content: \"\";position: absolute;border-left: 1px solid gray;box-sizing: border-box;top: 0;bottom: 0;left: 50%;z-index: -1;}#sk-container-id-9 div.sk-parallel-item {display: flex;flex-direction: column;z-index: 1;position: relative;background-color: white;}#sk-container-id-9 div.sk-parallel-item:first-child::after {align-self: flex-end;width: 50%;}#sk-container-id-9 div.sk-parallel-item:last-child::after {align-self: flex-start;width: 50%;}#sk-container-id-9 div.sk-parallel-item:only-child::after {width: 0;}#sk-container-id-9 div.sk-dashed-wrapped {border: 1px dashed gray;margin: 0 0.4em 0.5em 0.4em;box-sizing: border-box;padding-bottom: 0.4em;background-color: white;}#sk-container-id-9 div.sk-label label {font-family: monospace;font-weight: bold;display: inline-block;line-height: 1.2em;}#sk-container-id-9 div.sk-label-container {text-align: center;}#sk-container-id-9 div.sk-container {/* jupyter's `normalize.less` sets `[hidden] { display: none; }` but bootstrap.min.css set `[hidden] { display: none !important; }` so we also need the `!important` here to be able to override the default hidden behavior on the sphinx rendered scikit-learn.org. See: https://github.com/scikit-learn/scikit-learn/issues/21755 */display: inline-block !important;position: relative;}#sk-container-id-9 div.sk-text-repr-fallback {display: none;}</style><div id=\"sk-container-id-9\" class=\"sk-top-container\"><div class=\"sk-text-repr-fallback\"><pre>LinearRegression()</pre><b>In a Jupyter environment, please rerun this cell to show the HTML representation or trust the notebook. <br />On GitHub, the HTML representation is unable to render, please try loading this page with nbviewer.org.</b></div><div class=\"sk-container\" hidden><div class=\"sk-item\"><div class=\"sk-estimator sk-toggleable\"><input class=\"sk-toggleable__control sk-hidden--visually\" id=\"sk-estimator-id-9\" type=\"checkbox\" checked><label for=\"sk-estimator-id-9\" class=\"sk-toggleable__label sk-toggleable__label-arrow\">LinearRegression</label><div class=\"sk-toggleable__content\"><pre>LinearRegression()</pre></div></div></div></div></div>"
      ],
      "text/plain": [
       "LinearRegression()"
      ]
     },
     "execution_count": 102,
     "metadata": {},
     "output_type": "execute_result"
    }
   ],
   "source": [
    "reg_2.fit(df_1_x_encoded, df_1_y)"
   ]
  },
  {
   "cell_type": "code",
   "execution_count": 103,
   "id": "65597f98",
   "metadata": {},
   "outputs": [
    {
     "name": "stderr",
     "output_type": "stream",
     "text": [
      "c:\\Users\\riley\\AppData\\Local\\Programs\\Python\\Python310\\lib\\site-packages\\sklearn\\base.py:450: UserWarning: X does not have valid feature names, but LinearRegression was fitted with feature names\n",
      "  warnings.warn(\n"
     ]
    },
    {
     "data": {
      "text/plain": [
       "array([44.76177017])"
      ]
     },
     "execution_count": 103,
     "metadata": {},
     "output_type": "execute_result"
    }
   ],
   "source": [
    "reg_2.predict([[4.5, 0, 80, 1, 1, 65, 10, 0,0,0, 0, 0,0,0]])"
   ]
  },
  {
   "cell_type": "code",
   "execution_count": 109,
   "id": "6f3de88d",
   "metadata": {},
   "outputs": [
    {
     "data": {
      "text/plain": [
       "array([ 1.4363e+01, -1.0970e+00, -7.1000e-02,  3.5060e+00,  1.0330e+00,\n",
       "        2.1000e-02, -3.6000e-02, -3.4775e+01, -1.1129e+01, -2.4923e+01,\n",
       "        1.9532e+01,  2.4676e+01,  7.7760e+00, -2.2580e+00])"
      ]
     },
     "execution_count": 109,
     "metadata": {},
     "output_type": "execute_result"
    }
   ],
   "source": [
    "reg_2.coef_.round(3)"
   ]
  },
  {
   "cell_type": "markdown",
   "id": "2ae0fec2",
   "metadata": {},
   "source": [
    "The coefficent for our feature of interest, dirty_review_count is -.036. This means that we can predict each dirty review will impact days booked out of 90 by -.036 days booked on average."
   ]
  },
  {
   "cell_type": "code",
   "execution_count": 105,
   "id": "702f9978",
   "metadata": {},
   "outputs": [
    {
     "data": {
      "text/plain": [
       "0.127"
      ]
     },
     "execution_count": 105,
     "metadata": {},
     "output_type": "execute_result"
    }
   ],
   "source": [
    "reg_2.score(df_1_x_encoded,df_1_y).round(3)"
   ]
  },
  {
   "cell_type": "markdown",
   "id": "6df33f50",
   "metadata": {},
   "source": [
    "The overall model fit (r^2) is .127 or 12.7%. Our model predicts 12.7% of the data of the data set."
   ]
  },
  {
   "cell_type": "code",
   "execution_count": 106,
   "id": "114fbc5a",
   "metadata": {},
   "outputs": [
    {
     "data": {
      "text/html": [
       "<div>\n",
       "<style scoped>\n",
       "    .dataframe tbody tr th:only-of-type {\n",
       "        vertical-align: middle;\n",
       "    }\n",
       "\n",
       "    .dataframe tbody tr th {\n",
       "        vertical-align: top;\n",
       "    }\n",
       "\n",
       "    .dataframe thead th {\n",
       "        text-align: right;\n",
       "    }\n",
       "</style>\n",
       "<table border=\"1\" class=\"dataframe\">\n",
       "  <thead>\n",
       "    <tr style=\"text-align: right;\">\n",
       "      <th></th>\n",
       "      <th>booked_out_of_90</th>\n",
       "      <th>review_scores_rating_clean</th>\n",
       "      <th>instant_bookable_clean</th>\n",
       "      <th>price_clean</th>\n",
       "      <th>bedrooms_clean</th>\n",
       "      <th>host_identity_verified_clean</th>\n",
       "      <th>number_of_reviews_clean</th>\n",
       "      <th>dirty_review_count</th>\n",
       "      <th>room_type_Hotel room</th>\n",
       "      <th>room_type_Private room</th>\n",
       "      <th>room_type_Shared room</th>\n",
       "      <th>neighbourhood_group_cleansed_Brooklyn</th>\n",
       "      <th>neighbourhood_group_cleansed_Manhattan</th>\n",
       "      <th>neighbourhood_group_cleansed_Queens</th>\n",
       "      <th>neighbourhood_group_cleansed_Staten Island</th>\n",
       "    </tr>\n",
       "  </thead>\n",
       "  <tbody>\n",
       "    <tr>\n",
       "      <th>0</th>\n",
       "      <td>83</td>\n",
       "      <td>4.23</td>\n",
       "      <td>0</td>\n",
       "      <td>68</td>\n",
       "      <td>1</td>\n",
       "      <td>0</td>\n",
       "      <td>550</td>\n",
       "      <td>52</td>\n",
       "      <td>0</td>\n",
       "      <td>1</td>\n",
       "      <td>0</td>\n",
       "      <td>0</td>\n",
       "      <td>1</td>\n",
       "      <td>0</td>\n",
       "      <td>0</td>\n",
       "    </tr>\n",
       "    <tr>\n",
       "      <th>1</th>\n",
       "      <td>46</td>\n",
       "      <td>4.69</td>\n",
       "      <td>0</td>\n",
       "      <td>181</td>\n",
       "      <td>1</td>\n",
       "      <td>1</td>\n",
       "      <td>218</td>\n",
       "      <td>40</td>\n",
       "      <td>0</td>\n",
       "      <td>0</td>\n",
       "      <td>0</td>\n",
       "      <td>1</td>\n",
       "      <td>0</td>\n",
       "      <td>0</td>\n",
       "      <td>0</td>\n",
       "    </tr>\n",
       "    <tr>\n",
       "      <th>2</th>\n",
       "      <td>81</td>\n",
       "      <td>4.71</td>\n",
       "      <td>0</td>\n",
       "      <td>60</td>\n",
       "      <td>1</td>\n",
       "      <td>1</td>\n",
       "      <td>615</td>\n",
       "      <td>39</td>\n",
       "      <td>0</td>\n",
       "      <td>1</td>\n",
       "      <td>0</td>\n",
       "      <td>0</td>\n",
       "      <td>1</td>\n",
       "      <td>0</td>\n",
       "      <td>0</td>\n",
       "    </tr>\n",
       "    <tr>\n",
       "      <th>3</th>\n",
       "      <td>76</td>\n",
       "      <td>4.33</td>\n",
       "      <td>1</td>\n",
       "      <td>459</td>\n",
       "      <td>2</td>\n",
       "      <td>1</td>\n",
       "      <td>516</td>\n",
       "      <td>36</td>\n",
       "      <td>0</td>\n",
       "      <td>0</td>\n",
       "      <td>0</td>\n",
       "      <td>0</td>\n",
       "      <td>1</td>\n",
       "      <td>0</td>\n",
       "      <td>0</td>\n",
       "    </tr>\n",
       "    <tr>\n",
       "      <th>4</th>\n",
       "      <td>78</td>\n",
       "      <td>4.64</td>\n",
       "      <td>0</td>\n",
       "      <td>59</td>\n",
       "      <td>1</td>\n",
       "      <td>1</td>\n",
       "      <td>607</td>\n",
       "      <td>33</td>\n",
       "      <td>0</td>\n",
       "      <td>1</td>\n",
       "      <td>0</td>\n",
       "      <td>0</td>\n",
       "      <td>1</td>\n",
       "      <td>0</td>\n",
       "      <td>0</td>\n",
       "    </tr>\n",
       "  </tbody>\n",
       "</table>\n",
       "</div>"
      ],
      "text/plain": [
       "   booked_out_of_90  review_scores_rating_clean  instant_bookable_clean  \\\n",
       "0                83                        4.23                       0   \n",
       "1                46                        4.69                       0   \n",
       "2                81                        4.71                       0   \n",
       "3                76                        4.33                       1   \n",
       "4                78                        4.64                       0   \n",
       "\n",
       "   price_clean  bedrooms_clean  host_identity_verified_clean  \\\n",
       "0           68               1                             0   \n",
       "1          181               1                             1   \n",
       "2           60               1                             1   \n",
       "3          459               2                             1   \n",
       "4           59               1                             1   \n",
       "\n",
       "   number_of_reviews_clean  dirty_review_count  room_type_Hotel room  \\\n",
       "0                      550                  52                     0   \n",
       "1                      218                  40                     0   \n",
       "2                      615                  39                     0   \n",
       "3                      516                  36                     0   \n",
       "4                      607                  33                     0   \n",
       "\n",
       "   room_type_Private room  room_type_Shared room  \\\n",
       "0                       1                      0   \n",
       "1                       0                      0   \n",
       "2                       1                      0   \n",
       "3                       0                      0   \n",
       "4                       1                      0   \n",
       "\n",
       "   neighbourhood_group_cleansed_Brooklyn  \\\n",
       "0                                      0   \n",
       "1                                      1   \n",
       "2                                      0   \n",
       "3                                      0   \n",
       "4                                      0   \n",
       "\n",
       "   neighbourhood_group_cleansed_Manhattan  \\\n",
       "0                                       1   \n",
       "1                                       0   \n",
       "2                                       1   \n",
       "3                                       1   \n",
       "4                                       1   \n",
       "\n",
       "   neighbourhood_group_cleansed_Queens  \\\n",
       "0                                    0   \n",
       "1                                    0   \n",
       "2                                    0   \n",
       "3                                    0   \n",
       "4                                    0   \n",
       "\n",
       "   neighbourhood_group_cleansed_Staten Island  \n",
       "0                                           0  \n",
       "1                                           0  \n",
       "2                                           0  \n",
       "3                                           0  \n",
       "4                                           0  "
      ]
     },
     "execution_count": 106,
     "metadata": {},
     "output_type": "execute_result"
    }
   ],
   "source": [
    "df_1_x_encoded_2 = pd.get_dummies(df_1, drop_first = True)\n",
    "df_1_x_encoded_2.head()"
   ]
  },
  {
   "cell_type": "code",
   "execution_count": 107,
   "id": "1d635d37",
   "metadata": {},
   "outputs": [
    {
     "data": {
      "text/html": [
       "<div>\n",
       "<style scoped>\n",
       "    .dataframe tbody tr th:only-of-type {\n",
       "        vertical-align: middle;\n",
       "    }\n",
       "\n",
       "    .dataframe tbody tr th {\n",
       "        vertical-align: top;\n",
       "    }\n",
       "\n",
       "    .dataframe thead th {\n",
       "        text-align: right;\n",
       "    }\n",
       "</style>\n",
       "<table border=\"1\" class=\"dataframe\">\n",
       "  <thead>\n",
       "    <tr style=\"text-align: right;\">\n",
       "      <th></th>\n",
       "      <th>r</th>\n",
       "      <th>p</th>\n",
       "    </tr>\n",
       "  </thead>\n",
       "  <tbody>\n",
       "    <tr>\n",
       "      <th>review_scores_rating_clean</th>\n",
       "      <td>0.091</td>\n",
       "      <td>0.002</td>\n",
       "    </tr>\n",
       "    <tr>\n",
       "      <th>instant_bookable_clean</th>\n",
       "      <td>-0.033</td>\n",
       "      <td>0.265</td>\n",
       "    </tr>\n",
       "    <tr>\n",
       "      <th>price_clean</th>\n",
       "      <td>-0.099</td>\n",
       "      <td>0.001</td>\n",
       "    </tr>\n",
       "    <tr>\n",
       "      <th>bedrooms_clean</th>\n",
       "      <td>0.021</td>\n",
       "      <td>0.475</td>\n",
       "    </tr>\n",
       "    <tr>\n",
       "      <th>host_identity_verified_clean</th>\n",
       "      <td>0.016</td>\n",
       "      <td>0.602</td>\n",
       "    </tr>\n",
       "    <tr>\n",
       "      <th>number_of_reviews_clean</th>\n",
       "      <td>0.098</td>\n",
       "      <td>0.001</td>\n",
       "    </tr>\n",
       "    <tr>\n",
       "      <th>dirty_review_count</th>\n",
       "      <td>0.064</td>\n",
       "      <td>0.032</td>\n",
       "    </tr>\n",
       "    <tr>\n",
       "      <th>room_type_Hotel room</th>\n",
       "      <td>-0.073</td>\n",
       "      <td>0.014</td>\n",
       "    </tr>\n",
       "    <tr>\n",
       "      <th>room_type_Private room</th>\n",
       "      <td>-0.108</td>\n",
       "      <td>0.000</td>\n",
       "    </tr>\n",
       "    <tr>\n",
       "      <th>room_type_Shared room</th>\n",
       "      <td>-0.053</td>\n",
       "      <td>0.074</td>\n",
       "    </tr>\n",
       "    <tr>\n",
       "      <th>neighbourhood_group_cleansed_Brooklyn</th>\n",
       "      <td>0.020</td>\n",
       "      <td>0.495</td>\n",
       "    </tr>\n",
       "    <tr>\n",
       "      <th>neighbourhood_group_cleansed_Manhattan</th>\n",
       "      <td>0.113</td>\n",
       "      <td>0.000</td>\n",
       "    </tr>\n",
       "    <tr>\n",
       "      <th>neighbourhood_group_cleansed_Queens</th>\n",
       "      <td>-0.129</td>\n",
       "      <td>0.000</td>\n",
       "    </tr>\n",
       "    <tr>\n",
       "      <th>neighbourhood_group_cleansed_Staten Island</th>\n",
       "      <td>-0.070</td>\n",
       "      <td>0.019</td>\n",
       "    </tr>\n",
       "  </tbody>\n",
       "</table>\n",
       "</div>"
      ],
      "text/plain": [
       "                                                r      p\n",
       "review_scores_rating_clean                  0.091  0.002\n",
       "instant_bookable_clean                     -0.033  0.265\n",
       "price_clean                                -0.099  0.001\n",
       "bedrooms_clean                              0.021  0.475\n",
       "host_identity_verified_clean                0.016  0.602\n",
       "number_of_reviews_clean                     0.098  0.001\n",
       "dirty_review_count                          0.064  0.032\n",
       "room_type_Hotel room                       -0.073  0.014\n",
       "room_type_Private room                     -0.108  0.000\n",
       "room_type_Shared room                      -0.053  0.074\n",
       "neighbourhood_group_cleansed_Brooklyn       0.020  0.495\n",
       "neighbourhood_group_cleansed_Manhattan      0.113  0.000\n",
       "neighbourhood_group_cleansed_Queens        -0.129  0.000\n",
       "neighbourhood_group_cleansed_Staten Island -0.070  0.019"
      ]
     },
     "execution_count": 107,
     "metadata": {},
     "output_type": "execute_result"
    }
   ],
   "source": [
    "corr_df = pd.DataFrame(columns=['r', 'p'])\n",
    "\n",
    "\n",
    "for col in df_1_x_encoded_2:\n",
    "    if pd.api.types.is_numeric_dtype(df_1_x_encoded_2[col]) and col != 'booked_out_of_90':\n",
    "        r, p = stats.pearsonr(df_1_x_encoded_2.booked_out_of_90, df_1_x_encoded_2[col])\n",
    "        corr_df.loc[col] = [round(r, 3), round(p, 3)]\n",
    "\n",
    "corr_df"
   ]
  },
  {
   "cell_type": "markdown",
   "id": "9624bf44",
   "metadata": {},
   "source": [
    "The p-value of dirty_review_count impact on days_booked_out_of_90 is 0.032. At this p-value we can cocnlude that dirty_review_count's impact on bookings is statistically significant at the 95% confidence level. \n",
    "\n",
    "We are 95% confident that dirty_reviews_count's impact on days booked_out_of_90 is -0.036 days per dirty review."
   ]
  }
 ],
 "metadata": {
  "kernelspec": {
   "display_name": "Python 3.10.8 64-bit",
   "language": "python",
   "name": "python3"
  },
  "language_info": {
   "codemirror_mode": {
    "name": "ipython",
    "version": 3
   },
   "file_extension": ".py",
   "mimetype": "text/x-python",
   "name": "python",
   "nbconvert_exporter": "python",
   "pygments_lexer": "ipython3",
   "version": "3.10.8"
  },
  "vscode": {
   "interpreter": {
    "hash": "33febbe59e7517fc06e98238e12b853a1218524b250409038e378007b13131b1"
   }
  }
 },
 "nbformat": 4,
 "nbformat_minor": 5
}
